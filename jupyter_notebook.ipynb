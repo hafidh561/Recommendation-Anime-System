{
  "nbformat": 4,
  "nbformat_minor": 0,
  "metadata": {
    "colab": {
      "name": "Submission Project 2.ipynb",
      "provenance": [],
      "collapsed_sections": [
        "Ayj3v2kARi_j",
        "l9bhYdLfZM9y",
        "UiaIisi0Zfba",
        "4kiUIUDiZjhK"
      ]
    },
    "kernelspec": {
      "name": "python3",
      "display_name": "Python 3"
    },
    "language_info": {
      "name": "python"
    }
  },
  "cells": [
    {
      "cell_type": "markdown",
      "metadata": {
        "id": "KSZsANkTQUbY"
      },
      "source": [
        "---\n",
        "### Tugas Submission Dicoding Machine Learning Terapan Sistem Rekomendasi\n",
        "- **Nama  :** Hafidh Soekma Ardiansyah <br>\n",
        "- **Asal  :** Pasuruan, Pandaan, Jawa Timur <br>\n",
        "- **Email :** hapoed123@gmail.com <br>\n",
        "- **Dataset :** https://www.kaggle.com/vishalmane109/anime-recommendations-database\n",
        "---"
      ]
    },
    {
      "cell_type": "markdown",
      "metadata": {
        "id": "R69AK-CpQxxn"
      },
      "source": [
        "# Data Loading"
      ]
    },
    {
      "cell_type": "markdown",
      "metadata": {
        "id": "YPFkHNhvRRT_"
      },
      "source": [
        "## Import Library \n",
        "Kita akan menuliskan beberapa library yang akan kita butuhkan nanti."
      ]
    },
    {
      "cell_type": "code",
      "metadata": {
        "colab": {
          "base_uri": "https://localhost:8080/"
        },
        "id": "0mgsBf0b3qTL",
        "outputId": "9df2e4bd-8ce8-4c00-c9bc-d6cb699a0b64"
      },
      "source": [
        "import numpy as np\n",
        "import pandas as pd\n",
        "import tensorflow as tf\n",
        "from google.colab import files, output\n",
        "from sklearn.metrics.pairwise import cosine_similarity\n",
        "from sklearn.feature_extraction.text import TfidfVectorizer\n",
        "\n",
        "print(\"Semua library yang dibutuhkan telah terhubung\")"
      ],
      "execution_count": 1,
      "outputs": [
        {
          "output_type": "stream",
          "name": "stdout",
          "text": [
            "Semua library yang dibutuhkan telah terhubung\n"
          ]
        }
      ]
    },
    {
      "cell_type": "markdown",
      "metadata": {
        "id": "V2t8OjixRbAi"
      },
      "source": [
        "## Hubungkan Colab ke Kaggle\n",
        "Kita akan menghubungkan colab dengan kaggle, untuk mendownload datasets yang akan kita butuhkan. Dengan mengimport file kaggle.json yang tersedia di situs kaggle teman masing-masing."
      ]
    },
    {
      "cell_type": "code",
      "metadata": {
        "colab": {
          "resources": {
            "http://localhost:8080/nbextensions/google.colab/files.js": {
              "data": "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",
              "ok": true,
              "headers": [
                [
                  "content-type",
                  "application/javascript"
                ]
              ],
              "status": 200,
              "status_text": "OK"
            }
          },
          "base_uri": "https://localhost:8080/",
          "height": 35
        },
        "id": "Sq6aceWURYmy",
        "outputId": "8aac95e9-ac64-448a-fbd7-cdeef92e5c83"
      },
      "source": [
        "!rm kaggle.json\n",
        "files.upload()\n",
        "!mkdir -p ~/.kaggle\n",
        "!cp kaggle.json ~/.kaggle/\n",
        "!ls ~/.kaggle\n",
        "!chmod 600 /root/.kaggle/kaggle.json\n",
        "\n",
        "output.clear()\n",
        "print(\"Colab telah terhubung dengan kaggle\")"
      ],
      "execution_count": 2,
      "outputs": [
        {
          "output_type": "stream",
          "name": "stdout",
          "text": [
            "Colab telah terhubung dengan kaggle\n"
          ]
        }
      ]
    },
    {
      "cell_type": "markdown",
      "metadata": {
        "id": "Ayj3v2kARi_j"
      },
      "source": [
        "## Download dataset\n",
        "Kita download datasets yang akan kita butuhkan."
      ]
    },
    {
      "cell_type": "code",
      "metadata": {
        "colab": {
          "base_uri": "https://localhost:8080/"
        },
        "id": "AH8UjHr1ReJY",
        "outputId": "f17f8c09-370d-4afe-b5ac-dedb5d4ba77c"
      },
      "source": [
        "!rm anime-recommendations-database.zip\n",
        "!kaggle datasets download -d vishalmane109/anime-recommendations-database\n",
        "\n",
        "output.clear()\n",
        "print(\"Datasets telah berhasil didownload\")"
      ],
      "execution_count": 3,
      "outputs": [
        {
          "output_type": "stream",
          "name": "stdout",
          "text": [
            "Datasets telah berhasil didownload\n"
          ]
        }
      ]
    },
    {
      "cell_type": "markdown",
      "metadata": {
        "id": "92JuRfLMRr9s"
      },
      "source": [
        "## Extract dataset\n",
        "Kita proses datasets tersebut supaya bisa digunakan di colab."
      ]
    },
    {
      "cell_type": "code",
      "metadata": {
        "colab": {
          "base_uri": "https://localhost:8080/"
        },
        "id": "IrUJ2JFsRo3J",
        "outputId": "b3a90c99-0817-4df5-ee6f-c4af38305047"
      },
      "source": [
        "!rm Anime_data.csv\n",
        "!unzip anime-recommendations-database.zip\n",
        "!rm anime-recommendations-database.zip\n",
        "\n",
        "output.clear()\n",
        "print(\"Datasets telah siap digunakan\")"
      ],
      "execution_count": 4,
      "outputs": [
        {
          "output_type": "stream",
          "name": "stdout",
          "text": [
            "Datasets telah siap digunakan\n"
          ]
        }
      ]
    },
    {
      "cell_type": "markdown",
      "metadata": {
        "id": "0tQ1TmjTR95W"
      },
      "source": [
        "## Buka dataset csv dengan pandas\n",
        "Kita buka datasets tersebut dan kita tampilkan 5 data teratas."
      ]
    },
    {
      "cell_type": "code",
      "metadata": {
        "colab": {
          "base_uri": "https://localhost:8080/",
          "height": 467
        },
        "id": "nOvEfw2WRvIS",
        "outputId": "d254dc94-8b2e-4856-a3af-3d8dc0e1f528"
      },
      "source": [
        "df = pd.read_csv(\"./Anime_data.csv\")\n",
        "df.head()"
      ],
      "execution_count": 5,
      "outputs": [
        {
          "output_type": "execute_result",
          "data": {
            "text/html": [
              "<div>\n",
              "<style scoped>\n",
              "    .dataframe tbody tr th:only-of-type {\n",
              "        vertical-align: middle;\n",
              "    }\n",
              "\n",
              "    .dataframe tbody tr th {\n",
              "        vertical-align: top;\n",
              "    }\n",
              "\n",
              "    .dataframe thead th {\n",
              "        text-align: right;\n",
              "    }\n",
              "</style>\n",
              "<table border=\"1\" class=\"dataframe\">\n",
              "  <thead>\n",
              "    <tr style=\"text-align: right;\">\n",
              "      <th></th>\n",
              "      <th>Anime_id</th>\n",
              "      <th>Title</th>\n",
              "      <th>Genre</th>\n",
              "      <th>Synopsis</th>\n",
              "      <th>Type</th>\n",
              "      <th>Producer</th>\n",
              "      <th>Studio</th>\n",
              "      <th>Rating</th>\n",
              "      <th>ScoredBy</th>\n",
              "      <th>Popularity</th>\n",
              "      <th>Members</th>\n",
              "      <th>Episodes</th>\n",
              "      <th>Source</th>\n",
              "      <th>Aired</th>\n",
              "      <th>Link</th>\n",
              "    </tr>\n",
              "  </thead>\n",
              "  <tbody>\n",
              "    <tr>\n",
              "      <th>0</th>\n",
              "      <td>1</td>\n",
              "      <td>Cowboy Bebop</td>\n",
              "      <td>['Action', 'Adventure', 'Comedy', 'Drama', 'Sc...</td>\n",
              "      <td>In the year 2071, humanity has colonized sever...</td>\n",
              "      <td>TV</td>\n",
              "      <td>['Bandai Visual']</td>\n",
              "      <td>['Sunrise']</td>\n",
              "      <td>8.81</td>\n",
              "      <td>363889.0</td>\n",
              "      <td>39.0</td>\n",
              "      <td>704490.0</td>\n",
              "      <td>26.0</td>\n",
              "      <td>Original</td>\n",
              "      <td>Apr 3, 1998 to Apr 24, 1999</td>\n",
              "      <td>https://myanimelist.net/anime/1/Cowboy_Bebop</td>\n",
              "    </tr>\n",
              "    <tr>\n",
              "      <th>1</th>\n",
              "      <td>5</td>\n",
              "      <td>Cowboy Bebop: Tengoku no Tobira</td>\n",
              "      <td>['Action', 'Space', 'Drama', 'Mystery', 'Sci-Fi']</td>\n",
              "      <td>Another day, another bounty—such is the life o...</td>\n",
              "      <td>Movie</td>\n",
              "      <td>['Sunrise', 'Bandai Visual']</td>\n",
              "      <td>['Bones']</td>\n",
              "      <td>8.41</td>\n",
              "      <td>111187.0</td>\n",
              "      <td>475.0</td>\n",
              "      <td>179899.0</td>\n",
              "      <td>1.0</td>\n",
              "      <td>Original</td>\n",
              "      <td>Sep 1, 2001</td>\n",
              "      <td>https://myanimelist.net/anime/5/Cowboy_Bebop__...</td>\n",
              "    </tr>\n",
              "    <tr>\n",
              "      <th>2</th>\n",
              "      <td>6</td>\n",
              "      <td>Trigun</td>\n",
              "      <td>['Action', 'Sci-Fi', 'Adventure', 'Comedy', 'D...</td>\n",
              "      <td>Vash the Stampede is the man with a $$60,000,0...</td>\n",
              "      <td>TV</td>\n",
              "      <td>['Victor Entertainment']</td>\n",
              "      <td>['Madhouse']</td>\n",
              "      <td>8.31</td>\n",
              "      <td>197451.0</td>\n",
              "      <td>158.0</td>\n",
              "      <td>372709.0</td>\n",
              "      <td>26.0</td>\n",
              "      <td>Manga</td>\n",
              "      <td>Apr 1, 1998 to Sep 30, 1998</td>\n",
              "      <td>https://myanimelist.net/anime/6/Trigun</td>\n",
              "    </tr>\n",
              "    <tr>\n",
              "      <th>3</th>\n",
              "      <td>7</td>\n",
              "      <td>Witch Hunter Robin</td>\n",
              "      <td>['Action', 'Magic', 'Police', 'Supernatural', ...</td>\n",
              "      <td>Witches are individuals with special powers li...</td>\n",
              "      <td>TV</td>\n",
              "      <td>['Bandai Visual']</td>\n",
              "      <td>['Sunrise']</td>\n",
              "      <td>7.34</td>\n",
              "      <td>31875.0</td>\n",
              "      <td>1278.0</td>\n",
              "      <td>74889.0</td>\n",
              "      <td>26.0</td>\n",
              "      <td>Original</td>\n",
              "      <td>Jul 2, 2002 to Dec 24, 2002</td>\n",
              "      <td>https://myanimelist.net/anime/7/Witch_Hunter_R...</td>\n",
              "    </tr>\n",
              "    <tr>\n",
              "      <th>4</th>\n",
              "      <td>8</td>\n",
              "      <td>Bouken Ou Beet</td>\n",
              "      <td>['Adventure', 'Fantasy', 'Shounen', 'Supernatu...</td>\n",
              "      <td>It is the dark century and the people are suff...</td>\n",
              "      <td>TV</td>\n",
              "      <td>NaN</td>\n",
              "      <td>['Toei Animation']</td>\n",
              "      <td>7.04</td>\n",
              "      <td>4757.0</td>\n",
              "      <td>3968.0</td>\n",
              "      <td>11247.0</td>\n",
              "      <td>52.0</td>\n",
              "      <td>Manga</td>\n",
              "      <td>Sep 30, 2004 to Sep 29, 2005</td>\n",
              "      <td>https://myanimelist.net/anime/8/Bouken_Ou_Beet</td>\n",
              "    </tr>\n",
              "  </tbody>\n",
              "</table>\n",
              "</div>"
            ],
            "text/plain": [
              "   Anime_id  ...                                               Link\n",
              "0         1  ...       https://myanimelist.net/anime/1/Cowboy_Bebop\n",
              "1         5  ...  https://myanimelist.net/anime/5/Cowboy_Bebop__...\n",
              "2         6  ...             https://myanimelist.net/anime/6/Trigun\n",
              "3         7  ...  https://myanimelist.net/anime/7/Witch_Hunter_R...\n",
              "4         8  ...     https://myanimelist.net/anime/8/Bouken_Ou_Beet\n",
              "\n",
              "[5 rows x 15 columns]"
            ]
          },
          "metadata": {},
          "execution_count": 5
        }
      ]
    },
    {
      "cell_type": "markdown",
      "metadata": {
        "id": "--8M-vRaVJau"
      },
      "source": [
        "## Data unik pada setiap kolom\n",
        "Kita lihat jumlah data unik pada setiap kolom"
      ]
    },
    {
      "cell_type": "code",
      "metadata": {
        "colab": {
          "base_uri": "https://localhost:8080/"
        },
        "id": "DN6V5QAuVWNI",
        "outputId": "b40fdbb0-4b7c-4873-c89b-bfcf3cadc8ab"
      },
      "source": [
        "for column in df.columns:\n",
        "    print(f\"Jumlah data unik pada kolom {column}:\", len(df[column].unique()))"
      ],
      "execution_count": 6,
      "outputs": [
        {
          "output_type": "stream",
          "name": "stdout",
          "text": [
            "Jumlah data unik pada kolom Anime_id: 16850\n",
            "Jumlah data unik pada kolom Title: 16737\n",
            "Jumlah data unik pada kolom Genre: 4578\n",
            "Jumlah data unik pada kolom Synopsis: 15195\n",
            "Jumlah data unik pada kolom Type: 8\n",
            "Jumlah data unik pada kolom Producer: 3006\n",
            "Jumlah data unik pada kolom Studio: 778\n",
            "Jumlah data unik pada kolom Rating: 627\n",
            "Jumlah data unik pada kolom ScoredBy: 5454\n",
            "Jumlah data unik pada kolom Popularity: 14383\n",
            "Jumlah data unik pada kolom Members: 8044\n",
            "Jumlah data unik pada kolom Episodes: 197\n",
            "Jumlah data unik pada kolom Source: 17\n",
            "Jumlah data unik pada kolom Aired: 11128\n",
            "Jumlah data unik pada kolom Link: 16217\n"
          ]
        }
      ]
    },
    {
      "cell_type": "markdown",
      "metadata": {
        "id": "uykFO8K0T-EA"
      },
      "source": [
        "# Exploratory Data Analysis"
      ]
    },
    {
      "cell_type": "markdown",
      "metadata": {
        "id": "VS-yUYSqV8Qi"
      },
      "source": [
        "## Deskripsi Variabel\n",
        "Setelah itu, kita tampilkan deskripsi variabel pada datasets tersebut. Saya rubah semua nama kolom menjadi kecil supaya memudahkan kita untuk menggunakan kolom tersebut."
      ]
    },
    {
      "cell_type": "code",
      "metadata": {
        "colab": {
          "base_uri": "https://localhost:8080/"
        },
        "id": "W0NMFc3vWC2T",
        "outputId": "4aaab101-7a71-4be5-8839-ecc31be7b99e"
      },
      "source": [
        "df.columns = [column.lower() for column in df.columns]\n",
        "print(\"Total data:\", df.shape[0], end=\"\\n\\n\")\n",
        "df.info()"
      ],
      "execution_count": 7,
      "outputs": [
        {
          "output_type": "stream",
          "name": "stdout",
          "text": [
            "Total data: 17002\n",
            "\n",
            "<class 'pandas.core.frame.DataFrame'>\n",
            "RangeIndex: 17002 entries, 0 to 17001\n",
            "Data columns (total 15 columns):\n",
            " #   Column      Non-Null Count  Dtype  \n",
            "---  ------      --------------  -----  \n",
            " 0   anime_id    17002 non-null  int64  \n",
            " 1   title       17002 non-null  object \n",
            " 2   genre       14990 non-null  object \n",
            " 3   synopsis    15583 non-null  object \n",
            " 4   type        16368 non-null  object \n",
            " 5   producer    7635 non-null   object \n",
            " 6   studio      7919 non-null   object \n",
            " 7   rating      14425 non-null  float64\n",
            " 8   scoredby    13227 non-null  float64\n",
            " 9   popularity  16368 non-null  float64\n",
            " 10  members     17002 non-null  float64\n",
            " 11  episodes    14085 non-null  float64\n",
            " 12  source      15075 non-null  object \n",
            " 13  aired       16368 non-null  object \n",
            " 14  link        16368 non-null  object \n",
            "dtypes: float64(5), int64(1), object(9)\n",
            "memory usage: 1.9+ MB\n"
          ]
        }
      ]
    },
    {
      "cell_type": "markdown",
      "metadata": {
        "id": "_LiE_gz4WUdt"
      },
      "source": [
        "## Deskripsi Statistik\n",
        "Setelah itu, kita tampilkan deskripsi statistik pada data tersebut."
      ]
    },
    {
      "cell_type": "code",
      "metadata": {
        "colab": {
          "base_uri": "https://localhost:8080/",
          "height": 300
        },
        "id": "JNL5DPnXWgaA",
        "outputId": "c6a8f441-9701-4f1a-cecd-b2cfbee514de"
      },
      "source": [
        "df.describe()"
      ],
      "execution_count": 8,
      "outputs": [
        {
          "output_type": "execute_result",
          "data": {
            "text/html": [
              "<div>\n",
              "<style scoped>\n",
              "    .dataframe tbody tr th:only-of-type {\n",
              "        vertical-align: middle;\n",
              "    }\n",
              "\n",
              "    .dataframe tbody tr th {\n",
              "        vertical-align: top;\n",
              "    }\n",
              "\n",
              "    .dataframe thead th {\n",
              "        text-align: right;\n",
              "    }\n",
              "</style>\n",
              "<table border=\"1\" class=\"dataframe\">\n",
              "  <thead>\n",
              "    <tr style=\"text-align: right;\">\n",
              "      <th></th>\n",
              "      <th>anime_id</th>\n",
              "      <th>rating</th>\n",
              "      <th>scoredby</th>\n",
              "      <th>popularity</th>\n",
              "      <th>members</th>\n",
              "      <th>episodes</th>\n",
              "    </tr>\n",
              "  </thead>\n",
              "  <tbody>\n",
              "    <tr>\n",
              "      <th>count</th>\n",
              "      <td>17002.000000</td>\n",
              "      <td>14425.000000</td>\n",
              "      <td>1.322700e+04</td>\n",
              "      <td>16368.000000</td>\n",
              "      <td>1.700200e+04</td>\n",
              "      <td>14085.000000</td>\n",
              "    </tr>\n",
              "    <tr>\n",
              "      <th>mean</th>\n",
              "      <td>20446.579638</td>\n",
              "      <td>6.287867</td>\n",
              "      <td>1.139084e+04</td>\n",
              "      <td>8131.919599</td>\n",
              "      <td>2.038130e+04</td>\n",
              "      <td>11.482712</td>\n",
              "    </tr>\n",
              "    <tr>\n",
              "      <th>std</th>\n",
              "      <td>14342.513259</td>\n",
              "      <td>1.141401</td>\n",
              "      <td>4.328434e+04</td>\n",
              "      <td>4714.683351</td>\n",
              "      <td>7.121404e+04</td>\n",
              "      <td>44.089040</td>\n",
              "    </tr>\n",
              "    <tr>\n",
              "      <th>min</th>\n",
              "      <td>1.000000</td>\n",
              "      <td>1.000000</td>\n",
              "      <td>1.000000e+00</td>\n",
              "      <td>1.000000</td>\n",
              "      <td>0.000000e+00</td>\n",
              "      <td>1.000000</td>\n",
              "    </tr>\n",
              "    <tr>\n",
              "      <th>25%</th>\n",
              "      <td>5581.500000</td>\n",
              "      <td>5.620000</td>\n",
              "      <td>4.300000e+01</td>\n",
              "      <td>4042.500000</td>\n",
              "      <td>1.450000e+02</td>\n",
              "      <td>1.000000</td>\n",
              "    </tr>\n",
              "    <tr>\n",
              "      <th>50%</th>\n",
              "      <td>21334.000000</td>\n",
              "      <td>6.410000</td>\n",
              "      <td>4.780000e+02</td>\n",
              "      <td>8115.000000</td>\n",
              "      <td>1.113000e+03</td>\n",
              "      <td>1.000000</td>\n",
              "    </tr>\n",
              "    <tr>\n",
              "      <th>75%</th>\n",
              "      <td>34789.250000</td>\n",
              "      <td>7.090000</td>\n",
              "      <td>3.831000e+03</td>\n",
              "      <td>12208.250000</td>\n",
              "      <td>7.855750e+03</td>\n",
              "      <td>12.000000</td>\n",
              "    </tr>\n",
              "    <tr>\n",
              "      <th>max</th>\n",
              "      <td>40960.000000</td>\n",
              "      <td>10.000000</td>\n",
              "      <td>1.006242e+06</td>\n",
              "      <td>16338.000000</td>\n",
              "      <td>1.451708e+06</td>\n",
              "      <td>1818.000000</td>\n",
              "    </tr>\n",
              "  </tbody>\n",
              "</table>\n",
              "</div>"
            ],
            "text/plain": [
              "           anime_id        rating  ...       members      episodes\n",
              "count  17002.000000  14425.000000  ...  1.700200e+04  14085.000000\n",
              "mean   20446.579638      6.287867  ...  2.038130e+04     11.482712\n",
              "std    14342.513259      1.141401  ...  7.121404e+04     44.089040\n",
              "min        1.000000      1.000000  ...  0.000000e+00      1.000000\n",
              "25%     5581.500000      5.620000  ...  1.450000e+02      1.000000\n",
              "50%    21334.000000      6.410000  ...  1.113000e+03      1.000000\n",
              "75%    34789.250000      7.090000  ...  7.855750e+03     12.000000\n",
              "max    40960.000000     10.000000  ...  1.451708e+06   1818.000000\n",
              "\n",
              "[8 rows x 6 columns]"
            ]
          },
          "metadata": {},
          "execution_count": 8
        }
      ]
    },
    {
      "cell_type": "markdown",
      "metadata": {
        "id": "et0DQDcyWyU8"
      },
      "source": [
        "## Univariate Analysis\n"
      ]
    },
    {
      "cell_type": "markdown",
      "metadata": {
        "id": "Kv5RrthHW0z8"
      },
      "source": [
        "### Categorical Features\n",
        "Kita analisa untuk kolom categorical."
      ]
    },
    {
      "cell_type": "code",
      "metadata": {
        "colab": {
          "base_uri": "https://localhost:8080/"
        },
        "id": "4Aujy2fiWk25",
        "outputId": "4afb8f25-1ec7-4cbe-e192-e1ae74b3510f"
      },
      "source": [
        "categorical_features = [\"title\", \"genre\", \"synopsis\", \"type\",\n",
        "                        \"producer\", \"studio\", \"source\", \"aired\",\n",
        "                        \"link\"]\n",
        "for column in categorical_features:\n",
        "    print(f\"Banyak data pada kolom '{column}':\", len(df[column].unique()))\n",
        "    print(f\"Data unik pada kolom '{column}':\", df[column].unique(), end=\"\\n\\n\")"
      ],
      "execution_count": 9,
      "outputs": [
        {
          "output_type": "stream",
          "name": "stdout",
          "text": [
            "Banyak data pada kolom 'title': 16737\n",
            "Data unik pada kolom 'title': ['Cowboy Bebop' 'Cowboy Bebop: Tengoku no Tobira' 'Trigun' ...\n",
            " 'X Bomber Pilot' 'Ganko-chan' 'Original C-V-P Momoko']\n",
            "\n",
            "Banyak data pada kolom 'genre': 4578\n",
            "Data unik pada kolom 'genre': [\"['Action', 'Adventure', 'Comedy', 'Drama', 'Sci-Fi', 'Space']\"\n",
            " \"['Action', 'Space', 'Drama', 'Mystery', 'Sci-Fi']\"\n",
            " \"['Action', 'Sci-Fi', 'Adventure', 'Comedy', 'Drama', 'Shounen']\" ...\n",
            " \"['Action', 'Adventure', 'Comedy', 'Historical', 'Seinen']\"\n",
            " \"['Comedy', 'Game', 'School']\"\n",
            " \"['Action', 'Fantasy', 'Horror', 'Martial Arts', 'Samurai']\"]\n",
            "\n",
            "Banyak data pada kolom 'synopsis': 15195\n",
            "Data unik pada kolom 'synopsis': ['In the year 2071, humanity has colonized several of the planets and moons of the solar system leaving the now uninhabitable surface of planet Earth behind. The Inter Solar System Police attempts to keep peace in the galaxy, aided in part by outlaw bounty hunters, referred to as \"Cowboys.\" The ragtag team aboard the spaceship Bebop are two such individuals. \\r\\n  \\r\\nMellow and carefree Spike Spiegel is balanced by his boisterous, pragmatic partner Jet Black as the pair makes a living chasing bounties and collecting rewards. Thrown off course by the addition of new members that they meet in their travels—Ein, a genetically engineered, highly intelligent Welsh Corgi; femme fatale Faye Valentine, an enigmatic trickster with memory loss; and the strange computer whiz kid Edward Wong—the crew embarks on thrilling adventures that unravel each member\\'s dark and mysterious past little by little. \\r\\n \\r\\nWell-balanced with high density action and light-hearted comedy,  Cowboy Bebop  is a space Western classic and an homage to the smooth and improvised music it is named after. \\r\\n \\r\\n[Written by MAL Rewrite]'\n",
            " 'Another day, another bounty—such is the life of the often unlucky crew of the Bebop. However, this routine is interrupted when Faye, who is chasing a fairly worthless target on Mars, witnesses an oil tanker suddenly explode, causing mass hysteria. As casualties mount due to a strange disease spreading through the smoke from the blast, a whopping three hundred million woolong price is placed on the head of the supposed perpetrator. \\r\\n \\r\\nWith lives at stake and a solution to their money problems in sight, the Bebop crew springs into action. Spike, Jet, Faye, and Edward, followed closely by Ein, split up to pursue different leads across Alba City. Through their individual investigations, they discover a cover-up scheme involving a pharmaceutical company, revealing a plot that reaches much further than the ragtag team of bounty hunters could have realized. \\r\\n \\r\\n[Written by MAL Rewrite]'\n",
            " 'Vash the Stampede is the man with a $$60,000,000,000 bounty on his head. The reason: he\\'s a merciless villain who lays waste to all those that oppose him and flattens entire cities for fun, garnering him the title \"The Humanoid Typhoon.\" He leaves a trail of death and destruction wherever he goes, and anyone can count themselves dead if they so much as make eye contact—or so the rumors say. In actuality, Vash is a huge softie who claims to have never taken a life and avoids violence at all costs. \\r\\n \\r\\nWith his crazy doughnut obsession and buffoonish attitude in tow, Vash traverses the wasteland of the planet Gunsmoke, all the while followed by two insurance agents, Meryl Stryfe and Milly Thompson, who attempt to minimize his impact on the public. But soon, their misadventures evolve into life-or-death situations as a group of legendary assassins are summoned to bring about suffering to the trio. Vash\\'s agonizing past will be unraveled and his morality and principles pushed to the breaking point. \\r\\n \\r\\n[Written by MAL Rewrite]'\n",
            " ...\n",
            " 'Centuries ago, Kanna, a princess and the last of a winged race, was held prisoner in a castle as she was feared by the rest of the world. However, when she met a soldier named Ryuuya, she fell in love with him and told him of her wishes to see the outside world and to find her mother. Ryuuya attempted to fulfill these wishes. However, his efforts were in vain as Kanna was sealed in the sky through magic and cursed to be in pain for all eternity. \\r\\n \\r\\nHundreds of years later, Yukito, a decendant of Ryuuya, comes to a quiet town one week before their annual festival with hopes that he can make some money. However, when he meets an unusual girl called Misuzu, he is reminded of what his mother once told him—\"When you go out on your journey, if you find the winged girl\\'s re-incarnation, you must use your power to set her free.\" \\r\\n \\r\\nYukito and Misuzu\\'s fates soon become intertwined with each other, with each developing feelings for the other. However when Yukito realizes Misuzu\\'s connection to the past, he must decide on whether to leave, or to attempt to break the curse that has bound Kanna in centuries of pain. \\r\\n \\r\\n[Written by MAL Rewrite]'\n",
            " 'It has always been the aspiration of the Central Tanegashima High School Robotics Research Club to complete the GunPro1, a fully functioning giant robot. For years, the members of the club have contributed to its progress and it is now Akiho Senomiya\\'s goal to finally make the dream of all the past club members become a reality. However, things are not as easy as they seem as the club lacks the funding for such a huge endeavor. Aside from that, the only other club member, Kaito Yashio, shows no interest in assisting his childhood friend and instead indulges in playing mecha-fighting games on his \"PokeCom.\"  \\r\\n \\r\\nAs Kaito is in the middle of wasting his days, he receives an indecipherable message and hears a voice that seems to be drowned out by the noise of static. He searches for the source, only to realize that it came from Airi Yukifune, an AI which only exists within the augmented reality system accessible via the PokeCom.  Robotic;Notes  follows the story of Kaito as he discovers a peculiar report in Airi\\'s database, one that would have disastrous consequences in the future. \\r\\n \\r\\n[Written by MAL Rewrite]'\n",
            " 'Two years ago, Junichi Tachibana had a date on Christmas Eve but was stood up instead. Since then, he has had a hard time showing others his true feelings in fear of being rejected again. However, as luck would have it, Junichi may have a second chance at love when he meets several girls whom he becomes romantically interested in: Haruka Morishima, the energetic and popular upperclassman with a love for cute things; Kaoru Tanamachi, his childhood friend who harbors secret feelings for him; Sae Nakata, the timid transfer student who is shy around men; Ai Nanasaki, a girl on the swim team who has a bad first impression of Junichi; Rihoko Sakurai, a childhood friend with a love for sweets; and Tsukasa Ayatsuji, a seemingly perfect class representative who has a hidden dark side. As Christmas Eve approaches, Junichi can only hope that this will be the year he will finally spend the holidays with the one he truly loves. \\r\\n  \\r\\n[Written by MAL Rewrite]']\n",
            "\n",
            "Banyak data pada kolom 'type': 8\n",
            "Data unik pada kolom 'type': ['TV' 'Movie' 'OVA' 'Special' 'ONA' 'Music' 'Unknown' nan]\n",
            "\n",
            "Banyak data pada kolom 'producer': 3006\n",
            "Data unik pada kolom 'producer': [\"['Bandai Visual']\" \"['Sunrise', 'Bandai Visual']\"\n",
            " \"['Victor Entertainment']\" ... \"['Anon Pictures']\" \"['Exit Tunes']\"\n",
            " \"['Asmik Ace']\"]\n",
            "\n",
            "Banyak data pada kolom 'studio': 778\n",
            "Data unik pada kolom 'studio': [\"['Sunrise']\" \"['Bones']\" \"['Madhouse']\" \"['Toei Animation']\"\n",
            " \"['Studio Gallop']\" \"['J.C.Staff']\" \"['Nippon Animation']\" \"['A.C.G.T.']\"\n",
            " \"['Studio Pierrot']\" \"['Trans Arts']\" \"['Studio Comet']\" \"['Gonzo']\"\n",
            " \"['Studio Deen']\" \"['Gainax', 'Tatsunoko Production']\"\n",
            " \"['Gainax', 'Production I.G']\" \"['OLM']\" \"['Production I.G']\"\n",
            " \"['Studio Gallop', 'Studio Deen']\" \"['Tokyo Movie Shinsha']\"\n",
            " \"['Bee Train']\" \"['AIC']\" \"['Hal Film Maker']\" \"['Digital Frontier']\"\n",
            " \"['Bee Train', 'Xebec']\" \"['Xebec']\" \"['feel.', 'Zexcs']\" \"['Daume']\"\n",
            " \"['Nomad']\" \"['Kyoto Animation']\" \"['Group TAC']\" \"['Seven Arcs']\"\n",
            " \"['Xebec', 'Asread']\" \"['Sunrise', 'Studio Hibari']\"\n",
            " \"['Sunrise', 'Studio Deen']\" \"['Sunrise', 'Nakamura Production']\"\n",
            " \"['TMS Entertainment']\" \"['Imagin', 'Studio Live']\" \"['Zexcs']\"\n",
            " \"['Telecom Animation Film']\" \"['ufotable', 'feel.', 'Studio Flag']\"\n",
            " \"['Studio Matrix']\" \"['feel.']\" \"['TNK']\" \"['Gainax', 'J.C.Staff']\"\n",
            " \"['Gainax', 'Shaft']\" \"['Studio Fantasia']\"\n",
            " \"['Gainax', 'Toei Animation']\" \"['Studio Ghibli']\" \"['Production Reed']\"\n",
            " \"['Studio Gallop', 'Studio Comet']\" \"['Pastel']\" nan \"['Satelight']\"\n",
            " \"['Madhouse', 'Imagin']\" \"['Arms']\" \"['Manglobe']\" \"['APPP']\"\n",
            " \"['ufotable']\" \"['Chaos Project', 'GANSIS']\" \"['Tokyo Kids']\"\n",
            " \"['Palm Studio']\" \"['AIC Spirits']\" \"['Shin-Ei Animation']\"\n",
            " \"['CoMix Wave Films']\" \"['Studio Hibari']\" \"['Radix']\"\n",
            " \"['Gainax', 'Madhouse']\" \"['Tatsunoko Production']\" \"['Ajia-Do']\"\n",
            " \"['Triangle Staff']\" \"['Square Enix']\" \"['TNK', 'Production Reed']\"\n",
            " \"['Studio Fantasia', 'Amber Film Works']\" \"['Gainax']\"\n",
            " \"['E&amp;G Films']\" \"['Shaft']\"\n",
            " \"['Trinet Entertainment', 'Picture Magic']\" \"['AIC A.S.T.A.']\"\n",
            " \"['M.S.C']\" \"['Picture Magic', 'Rikuentai']\"\n",
            " \"['TMS Entertainment', 'Tokyo Kids', 'Minami Machi Bugyousho']\"\n",
            " \"['Magic Bus']\" \"['Studio Fantasia', 'Animate Film']\"\n",
            " \"['Actas', 'Production Reed']\" \"['Group TAC', 'Japan Vistec']\"\n",
            " \"['Actas']\" \"['Bones', 'Sunrise']\" \"['WAO World']\" \"['Studio 4°C']\"\n",
            " \"['Gonzo', 'Production I.G']\" \"['Ashi Production']\" \"['Arcs Create']\"\n",
            " \"['Production I.G', 'Xebec']\" \"['Plum', 'Magic Bus']\" \"['Artland']\"\n",
            " \"['Satelight', 'Production Reed']\" \"['Brain&#039;s Base']\" \"['Eiken']\"\n",
            " \"['Plum']\" \"['Trinet Entertainment']\"\n",
            " \"['Studio Ghibli', 'Studio Hibari']\" \"['Actas', 'SynergySP']\"\n",
            " \"['OLM', 'Production Reed']\" \"['Madhouse', 'Studio Deen']\"\n",
            " \"['Studio 4°C', 'Sunrise']\" \"['Studio Junio']\"\n",
            " \"['Radix', 'Marine Entertainment']\"\n",
            " \"['Kyoto Animation', 'Tatsunoko Production']\"\n",
            " \"['Studio Deen', 'Studio Hibari', 'Production Reed']\"\n",
            " \"['Madhouse', 'Production Reed']\" \"['Madhouse', 'feel.']\"\n",
            " \"['Studio Flag']\" \"['Zero-G Room']\"\n",
            " \"['Madhouse', 'Telecom Animation Film']\"\n",
            " \"['Shogakukan Music &amp; Digital Entertainment']\" \"['SynergySP']\"\n",
            " \"['J.C.Staff', 'Studio Ghibli']\" \"['Group TAC', 'View Works']\"\n",
            " \"['Creators Dot Com']\" \"['Group TAC', 'Ginga Ya']\"\n",
            " \"['Studio Pierrot', 'Arms']\" \"['Y.O.U.C']\" \"['Studio Live']\"\n",
            " \"['OLM Digital']\" \"['AIC Spirits', 'Group TAC']\" \"['AIC', 'Artmic']\"\n",
            " \"['Diomedea']\" \"['Remic']\" \"['Madhouse', 'TNK']\"\n",
            " \"['Enoki Films', 'Dai Nippon Printing']\" \"['Tezuka Productions']\"\n",
            " \"['Studio Jam']\" \"['Gonzo', 'Satelight']\" \"['Phoenix Entertainment']\"\n",
            " \"['Group TAC', 'G&amp;G Entertainment']\" \"['T.P.O']\" \"['Mook Animation']\"\n",
            " \"['Toei Animation', 'Production Reed']\"\n",
            " \"['Production I.G', 'Production Reed']\" \"['Gainax', 'Studio Deen']\"\n",
            " \"['Triangle Staff', 'Animate Film']\" \"['AIC', 'APPP']\"\n",
            " \"['Group TAC', 'Amuse']\" \"['Oh! Production']\" \"['View Works']\"\n",
            " \"['Sunrise', 'Toei Animation']\" \"['Doga Kobo']\"\n",
            " \"['Artland', 'Tatsunoko Production']\" \"['Romanov Films']\" \"['Agent 21']\"\n",
            " \"['Chaos Project']\" \"['Studio Egg']\" \"['Yamato Works']\"\n",
            " \"['Trinet Entertainment', 'Studio Hibari']\" \"['ACC Production']\"\n",
            " \"['Tamura Shigeru Studio']\" \"['Mushi Production']\" \"['Bee Media']\"\n",
            " \"['AIC', 'Animate Film']\" \"['Toei Animation', 'Studio World']\"\n",
            " \"['Studio Pierrot', 'Studio Deen']\" \"['The Answer Studio']\"\n",
            " \"['Madhouse', 'Studio 4°C']\" \"['J.C.Staff', 'Production Reed']\"\n",
            " \"['AIC', 'Artmic', 'Darts']\" \"['Darts']\" \"['D.A.S.T.']\"\n",
            " \"['Azeta Pictures']\" \"['AT-2']\" \"['Imagin']\"\n",
            " \"['Studio Junio', 'Annapuru']\" \"['Sunrise', 'Production Reed']\"\n",
            " \"['Planet']\" \"['Vega Entertainment']\" \"['Artmic']\"\n",
            " \"['Studio Pierrot', 'AIC A.S.T.A.']\" \"['Yumeta Company']\"\n",
            " \"['Ishimori Entertainment']\" \"['JCF']\" \"['Madhouse', 'Group TAC']\"\n",
            " \"['Asahi Production']\" \"['Shaft', 'TNK']\"\n",
            " \"['Toei Animation', 'TMS Entertainment']\" \"['Office Take Off']\"\n",
            " \"['Sugar Boy', 'Blue Cat']\" \"['Venet']\" \"['Studio Z5', 'Studio March']\"\n",
            " \"['Japan Vistec']\" \"['Echo']\" \"['Ginga Ya']\" \"['Three-d']\"\n",
            " \"['Kitty Films']\" \"['J.C.Staff', 'Animate Film']\" \"['Genco', 'Radix']\"\n",
            " \"['T-Rex']\" \"['Studio G-1Neo']\" \"['Studio Pierrot', 'Ajia-Do']\"\n",
            " \"['Front Line']\" \"['Anime R', 'Aubec']\" \"['Asread']\"\n",
            " \"['AIC Spirits', 'BeSTACK']\" \"['Picture Magic']\"\n",
            " \"['Gonzo', 'Palm Studio']\" \"['Xebec', 'Group TAC']\" \"['Image House']\"\n",
            " \"['J.C.Staff', 'Life Work']\" \"['Madhouse', 'Studio Deen', 'Magic Bus']\"\n",
            " \"['Ishikawa Pro']\" \"['Artland', 'AIC', 'Artmic']\" \"['Mook DLE']\"\n",
            " \"['Pierrot Plus']\" \"['Studio Gallop', 'TMS Entertainment']\"\n",
            " \"['Ajia-Do', 'Studio Deen']\" \"['Animate Film']\"\n",
            " \"['Gainax', 'Studio 4°C']\" \"['Big Bang']\"\n",
            " \"['AIC', 'Artmic', 'Animate Film']\" \"['Studio OX']\"\n",
            " \"['AIC', 'Studio Hakk']\" \"['Tsuchida Productions']\" \"['P.A. Works']\"\n",
            " \"['Himajin Planning']\" \"['SOEISHINSHA']\" \"['Lilix']\" \"['Telescreen BV']\"\n",
            " \"['Tokyo Kids', 'Minami Machi Bugyousho']\" \"['A-1 Pictures']\" \"['PPM']\"\n",
            " \"['Gonzo', 'Asread']\" \"['Sanrio']\" \"['Nippon Animation', 'Shaft']\"\n",
            " \"['Studio Rikka']\" \"['AIC', 'Darts']\" \"['Visual 80']\"\n",
            " \"['Front Line', 'Studio G-1Neo']\" \"['Studio Sign']\" \"['Flavors Soft']\"\n",
            " \"['Studio Core']\" \"['Studio 9 MAiami']\" \"['Studio Wombat']\"\n",
            " \"['Triple X']\" \"['Madhouse', 'TMS Entertainment']\"\n",
            " \"['Bee Train', 'Cookie Jar Entertainment']\"\n",
            " \"['Madhouse', 'Toei Animation']\" \"['Genco', 'Triangle Staff']\"\n",
            " \"['Xebec', 'Genco', 'Triangle Staff']\" \"['Ajia-Do', 'TMS Entertainment']\"\n",
            " \"['Sunrise', 'Dongwoo A&amp;E']\" \"['Oxybot']\" \"['Sunwoo Entertainment']\"\n",
            " \"['Khara']\" \"['Shochiku Animation Institute']\"\n",
            " \"['Studio Kyuuma', 'Studio Kikan', 'Azeta Pictures']\"\n",
            " \"['Madhouse', 'Studio Fantasia']\" \"['Pink Pineapple']\"\n",
            " \"['Production Reed', 'Asahi Production']\"\n",
            " \"['Tatsunoko Production', 'Production Reed', 'Asahi Production']\"\n",
            " \"['Topcraft']\"\n",
            " \"['Gonzo', 'Gainax', 'Production I.G', 'Madhouse', 'Studio 4°C', 'Satelight', 'CoMix Wave Films']\"\n",
            " \"['Japan Taps']\" \"['8bit']\" \"['Studio Bogey']\"\n",
            " \"['Telecom Animation Film', 'Shirogumi']\" \"['Artland', 'Madhouse']\"\n",
            " \"['Piko Studio']\" \"['Think Corporation']\"\n",
            " \"['Studio Unicorn', 'Hiro Media']\" \"['Dongwoo A&amp;E']\"\n",
            " \"['Kazuki Production']\" \"['PrimeTime']\" \"['Eiken', 'Studio Live']\"\n",
            " \"['Anpro']\" \"['J.C.Staff', 'Tatsunoko Production']\"\n",
            " \"['Anime Antenna Iinkai']\" \"['Nippon Animation', 'Production Reed']\"\n",
            " \"['Gonzo', 'AIC']\" \"['White Fox']\" \"['Shirogumi']\"\n",
            " \"['Actas', 'Brain&#039;s Base']\" \"['Arms', 'Studio Kikan']\"\n",
            " \"['Tatsunoko Production', 'Studio World']\"\n",
            " \"['Bones', 'Telecom Animation Film']\" \"['Blue Cat']\"\n",
            " \"['J.C.Staff', 'Production I.G']\" \"['Kanaban Graphics']\"\n",
            " \"['Suzuki Mirano']\" \"['Kokusai Eigasha']\" \"['Studio Zero']\"\n",
            " \"['Nippon Animation', 'Xebec']\" \"['GEN Productions']\"\n",
            " \"['DAX Production']\" \"['Daichi Doga', 'Dongyang Animation']\"\n",
            " \"['Studio Eromatick']\" \"['Knack Productions']\"\n",
            " \"['A-1 Pictures', 'Ordet']\" \"['Toei Animation', 'Daewon Media']\"\n",
            " \"['Nippon Animation', 'SynergySP', 'Shirogumi']\" \"['Bones', 'Sanrio']\"\n",
            " \"['Bee Train', 'Production I.G', 'Madhouse', 'Studio 4°C']\"\n",
            " \"['Xebec', 'Kanaban Graphics']\"\n",
            " \"['Studio Comet', 'KeyEast', 'REALTHING']\"\n",
            " \"['Sunrise', 'Kino Production']\" \"['Bones', 'Kinema Citrus']\" \"['Oz']\"\n",
            " \"['Green Bunny']\" \"['Gainax', 'feel.']\" \"['Office Takeout']\"\n",
            " \"['Studio Ghibli', 'Ajia-Do']\" \"['AIC Spirits', 'Asread']\" \"['DLE']\"\n",
            " \"['Aubec']\" \"['Madhouse', 'Tatsunoko Production']\"\n",
            " \"['Tele-Cartoon Japan']\" \"['Animate Film', 'Studio Kikan']\"\n",
            " \"['Minami Machi Bugyousho']\" \"['AIC Plus+']\" \"['Ajia-Do', 'Group TAC']\"\n",
            " \"['Gainax', 'Magic Bus']\" \"['Satelight', '8bit']\"\n",
            " \"['Brain&#039;s Base', 'Marvy Jack']\" \"['Egg']\"\n",
            " \"['Production I.G', 'Trans Arts']\" \"['Actas', 'TMS Entertainment']\"\n",
            " \"['Bee Media', 'Code']\" \"['AIC Spirits', 'Digital Frontier']\"\n",
            " \"['Studio Kikan']\" \"['Office AO']\" \"['Marza Animation Planet']\"\n",
            " \"['David Production']\" \"['Gonzo', 'Picture Magic']\" \"['Silver Link.']\"\n",
            " \"['AIC', 'BeSTACK']\"\n",
            " \"['Kyoto Animation', 'Production I.G', 'Shin-Ei Animation']\"\n",
            " \"['Ripple Film']\" \"['Heewon Entertainment']\"\n",
            " \"['Tatsunoko Production', 'SynergySP', 'Seven']\"\n",
            " \"['Production I.G', 'Polygon Pictures']\" \"['Milky Cartoon']\"\n",
            " \"['Animate Film', 'Visual 80']\" \"['Picograph']\" \"['OLM', 'P.A. Works']\"\n",
            " \"['GoHands']\" \"['Toei Video']\" \"['Studio Anima']\"\n",
            " \"['Artmic', 'Animate Film']\" \"['Tama Production']\" \"['Schoolzone']\"\n",
            " \"['PoRO']\" \"['Satelight', 'A-1 Pictures']\" \"['Studio Take Off']\"\n",
            " \"['Studio Blanc']\" \"['Shanghai Animation Film Studio']\"\n",
            " \"['Bones', 'Production I.G', 'Studio 4°C', 'Toei Animation']\"\n",
            " \"['Encourage Films']\"\n",
            " \"['Future Planet', 'Beijing Huihuang Animation Company']\" \"['Indeprox']\"\n",
            " \"['TYO Animations']\" \"['Robot Communications']\" \"['Hoods Entertainment']\"\n",
            " \"['Ordet']\" \"['Natural High']\" \"['Studio Korumi']\"\n",
            " \"['Asahi Production', 'Shochiku Animation Institute']\" \"['Sting Ray']\"\n",
            " \"['Arms', 'TNK']\" \"['Gathering']\" \"['Panda Factory', 'Studio PuYUKAI']\"\n",
            " \"['G-Lam']\" \"['Bridge']\" \"['dwarf']\" \"['ChuChu']\"\n",
            " \"['Hal Film Maker', 'TYO Animations']\" \"['Daewon Media']\"\n",
            " \"['Bee Media', '81 Produce']\" \"['Sunrise', 'Telecom Animation Film']\"\n",
            " \"['Kachidoki Studio']\" \"['Studio World']\" \"['Xebec', 'OLM']\"\n",
            " \"['Panda Factory']\" \"['Tatsunoko Production', 'SynergySP']\"\n",
            " \"['AIC Classic']\" \"['Animaruya']\" \"['TAKI Corporation']\"\n",
            " \"['Studio Pierrot', 'Shin-Ei Animation']\"\n",
            " \"['Production I.G', 'Animate Film']\"\n",
            " \"['Studio Bogey', 'Public &amp; Basic']\" \"['AIC Build']\"\n",
            " \"['Rising Force']\" \"['Life Work']\" \"['Tokyo Media Connections']\"\n",
            " \"['Studio Unicorn']\" \"['Public &amp; Basic', 'Ripple Film']\"\n",
            " \"['Studio Pierrot', 'Pierrot Plus']\" \"['Kinema Citrus']\"\n",
            " \"['AIC Takarazuka']\" \"['Sunrise', 'Bandai Visual']\" \"['Kamikaze Douga']\"\n",
            " \"['Seven']\" \"['A-1 Pictures', 'Bridge']\"\n",
            " \"['Sparkly Key Animation Studio']\"\n",
            " \"['Studio Pierrot', 'David Production']\"\n",
            " \"['Madhouse', 'Tokyo Movie Shinsha']\"\n",
            " \"['Production I.G', 'Xebec', 'OLM']\" \"['Lerche']\" \"['Ascension']\"\n",
            " \"['Artland', 'Nippon Animation']\" \"['Bones', 'Production Reed']\"\n",
            " \"['Toei Animation', 'Studio Nue']\" \"['WAO World', 'MooGoo']\"\n",
            " \"['B&amp;T']\" \"['Jinnis Animation Studios']\" \"['Digital Media Lab']\"\n",
            " \"['Studio PuYUKAI']\" \"['Barnum Studio', 'Project No.9', 'Studio Blanc']\"\n",
            " \"['AIC', 'Remic']\" \"['Production I.G', 'M.S.C']\" \"['Studio Gokumi']\"\n",
            " \"['Studio Fantasia', 'Rabbit Gate']\" \"['Collaboration Works']\"\n",
            " \"['Majin']\" \"['Studio Animal']\" \"['Studio Flag', 'Studio Bogey']\"\n",
            " \"['Ordet', 'SANZIGEN']\" \"['Kenji Studio']\"\n",
            " \"['Satelight', 'Encourage Films']\" \"['Production I.G', 'SANZIGEN']\"\n",
            " \"['Gainax', 'Asahi Production']\" \"['LMD']\"\n",
            " \"['Madhouse', 'Studio Gokumi']\" \"['C2C']\" \"['RG Animation Studios']\"\n",
            " \"['Marvy Jack']\" \"['Gonzo', 'DLE']\" \"['Studio Chizu']\"\n",
            " \"['SBS TV Production']\" \"['Studio Rikka', 'Purple Cow Studio Japan']\"\n",
            " \"['Tezuka Productions', 'MAPPA']\" \"['Studio Pierrot', 'D.A.S.T.']\"\n",
            " \"['Production IMS']\" \"['Tatsunoko Production', 'Dongwoo A&amp;E']\"\n",
            " \"['Odolttogi']\" \"['NHK']\" \"['Hotline']\" \"['Larx Entertainment']\"\n",
            " \"['Production I.G', 'Studio 4°C', 'Shaft']\" \"['Shueisha']\"\n",
            " \"['Graphinica']\" \"['HS Pictures Studio']\" \"['Trigger']\"\n",
            " \"['AIC Frontier']\" \"['J.C.Staff', 'Artland']\" \"['MAPPA']\" \"['SANZIGEN']\"\n",
            " \"['Gonzo', 'ufotable']\" \"['Ordet', 'LIDENFILMS']\" \"['Mary Jane']\"\n",
            " \"['Doga Kobo', 'Orange']\" \"['Hoods Entertainment', 'Production IMS']\"\n",
            " \"['An DerCen']\" \"['Barnum Studio', 'Project No.9']\"\n",
            " \"['Nippon Animation', 'Studio WHO']\" \"['J.C.Staff', 'Toei Animation']\"\n",
            " \"['Studio Pierrot', 'Studio Gallop']\" \"['Satelight', 'ixtl']\" \"['Nexus']\"\n",
            " \"['Seven Arcs Pictures']\" \"['Charaction']\" \"['Wit Studio']\"\n",
            " \"['Kazami Gakuen Koushiki Douga-bu']\" \"['Xebec Zwei']\" \"['LIDENFILMS']\"\n",
            " \"['Bouncy']\" \"['Fanworks']\" \"['Studio 4°C', 'Shirogumi']\"\n",
            " \"['Ordet', 'Encourage Films']\" \"['Passione']\"\n",
            " \"['Studio Deen', 'DAX Production']\" \"['Project No.9']\"\n",
            " \"['Kaeruotoko Shokai']\" \"['MooGoo']\" \"['Silver Link.', 'Connect']\"\n",
            " \"['Kyoto Animation', 'Animation Do']\" \"['Production I.G', 'Madhouse']\"\n",
            " \"['Hoods Entertainment', 'teamKG']\" \"['Tatsunoko Production', 'Ordet']\"\n",
            " \"['Studio Deen', 'Daume']\" \"['Mirai Film']\" \"['ILCA']\"\n",
            " \"['Studio Moriken']\" \"['Studio 1st']\" \"['SANZIGEN', 'LIDENFILMS']\"\n",
            " \"['Madhouse', 'MAPPA']\" \"['Polygon Pictures']\" \"['Yaoyorozu']\"\n",
            " \"['Toei Animation', 'Tatsunoko Production']\" \"['Opera House']\"\n",
            " \"['Studio Pierrot', 'Kyoto Animation']\" \"['Studio Colorido']\" \"['NAZ']\"\n",
            " \"['Minakata Laboratory']\" \"['Kinema Citrus', 'Orange']\"\n",
            " \"['Production I.G', 'Zexcs']\" \"['C-Station']\" \"['C2C', 'Lay-duce']\"\n",
            " \"['Asahi Production', 'Rising Force']\"\n",
            " \"['Shirogumi', 'Shin-Ei Animation']\"\n",
            " \"['Tatsunoko Production', '10Gauge']\" \"['Circle Tribute']\"\n",
            " \"['Gakken Eigakyoku']\" \"['J.C.Staff', 'A.C.G.T.']\" \"['Lay-duce']\"\n",
            " \"['Project No.9', 'Tri-Slash']\" \"['Studio Ghibli', 'Polygon Pictures']\"\n",
            " \"['Studio Comet', 'Zexcs']\" \"['A-1 Pictures', 'TROYCA']\" \"['Shuka']\"\n",
            " \"['Studio 3Hz']\" \"['Studio Deen', 'Studio Hibari']\"\n",
            " \"['Manglobe', 'Geno Studio']\" \"['Fuji TV']\"\n",
            " \"['Studio Deen', 'Wit Studio']\" \"['MMDGP']\"\n",
            " \"['Nippon Animation', 'Studio Gallop']\" \"['Shimogumi']\"\n",
            " \"['Steve N&#039; Steven']\" \"['Tonko House']\" \"['Satelight', 'C2C']\"\n",
            " \"['Karaku']\" \"['Ordet', 'Studio Moriken']\" \"['BreakBottle']\"\n",
            " \"['Creators in Pack']\" \"['Millepensee']\"\n",
            " \"['Sunrise', 'Bandai Namco Pictures']\" \"['Next Media Animation']\"\n",
            " \"['Pie in The Sky']\" \"['Dynamo Pictures']\" \"['Pollyanna Graphics']\"\n",
            " \"['J.C.Staff', 'Nomad']\" \"['Bandai Namco Pictures']\"\n",
            " \"['TMS Entertainment', 'DLE']\" \"['Production I.G', 'DLE']\"\n",
            " \"['Mili Pictures']\" \"['J.C.Staff', 'SANZIGEN']\" \"['A-Real']\"\n",
            " \"['TMS Entertainment', 'Telecom Animation Film']\"\n",
            " \"['Artland', 'Hoods Entertainment']\"\n",
            " \"['Steve N&#039; Steven', 'Rockwell Eyes']\" \"['Calf Studio']\"\n",
            " \"['Khara', 'Trigger']\" \"['Gathering', 'Asahi Production']\"\n",
            " \"['Toei Animation', 'Bridge']\" \"['Shirogumi', 'Encourage Films']\"\n",
            " \"['Madhouse', 'Nexus']\" \"['Brain&#039;s Base', 'Studio A-CAT']\"\n",
            " \"['Khara', 'CyberConnect2']\" \"['Haoliners Animation League']\"\n",
            " \"['Telecom Animation Film', 'Graphinica']\" \"['Ordet', 'Millepensee']\"\n",
            " \"['EMT²']\" \"['TMS Entertainment', '3xCube']\"\n",
            " \"['Kinema Citrus', 'White Fox']\" \"['MAPPA', 'Studio VOLN']\"\n",
            " \"['Media Bank']\" \"['Studio A-CAT']\" \"['Studio Binzo']\" \"['TROYCA']\"\n",
            " \"['Lerche', '10Gauge']\" \"['Silver Link.', 'Nexus']\"\n",
            " \"['Barnum Studio', 'Silver Link.', 'Connect']\"\n",
            " \"['Production I.G', 'OLM']\" \"['L²Studio']\" \"['Office DCI']\"\n",
            " \"['Tomovies']\" \"['W-Toon Studio']\" \"['Jumondo']\" \"['ixtl', 'LIDENFILMS']\"\n",
            " \"['Buemon']\" \"['Signal. MD']\" \"['Actas', 'Bee Media']\" \"['10Gauge']\"\n",
            " \"['Orange', 'Studio 3Hz']\" \"['Brain&#039;s Base', 'Platinum Vision']\"\n",
            " \"['Qualia Animation']\" \"['Hoods Drifters Studio']\"\n",
            " \"['OLM', 'OLM Digital', 'Sprite Animation Studios']\"\n",
            " \"['TYO Animations', 'LIDENFILMS']\" \"['AXsiZ']\"\n",
            " \"['Studio Meditation With a Pencil']\"\n",
            " \"['Tatsunoko Production', 'CoMix Wave Films', 'FOREST Hunting One']\"\n",
            " \"['Kyotoma', 'Office Nobu']\" \"['KOO-KI']\" \"['Oddjob']\" \"['Idea Factory']\"\n",
            " \"['Production IMS', 'Orange']\" \"['Pine Jam']\" \"['Kinema Citrus', 'EMT²']\"\n",
            " \"['Onionskin']\" \"['Shanghai Foch Film Culture Investment']\"\n",
            " \"['Sakura Create']\" \"['Studio Gokumi', 'AXsiZ']\" \"['TOHO animation']\"\n",
            " \"['Fukushima Gainax']\" \"['Gainax', 'Fukushima Gainax']\"\n",
            " \"['G.CMay Animation &amp; Film']\" \"['Xebec', 'Issen']\"\n",
            " \"['Millepensee', 'GEMBA']\" \"['Seven Arcs', 'Seven Arcs Pictures']\"\n",
            " \"['W-Toon Studio', 'DMM.futureworks']\" \"['October Media']\"\n",
            " \"['KAGAYA Studio']\" \"['Bridge', 'Husio Studio']\" \"['Joker Films']\"\n",
            " \"['OLM', 'OLM Digital']\" \"['DR Movie']\" \"['NUT']\" \"['Rabbit Machine']\"\n",
            " \"['CoMix Wave Films', 'FOREST Hunting One']\" \"['Ekura Animal']\"\n",
            " \"['Moss Design Unit']\" \"['Kyotoma']\" \"['Neft Film']\" \"['Zero-G']\"\n",
            " \"['domerica']\" \"['Studio! Cucuri']\" \"['Orange', 'Seven Arcs Pictures']\"\n",
            " \"['Orange']\" \"['Asura Film']\" \"['Ordet', 'W-Toon Studio']\" \"['EDGE']\"\n",
            " \"['J.C.Staff', 'Egg Firm']\" \"['production doA']\" \"['Queen Bee']\"\n",
            " \"['Haoliners Animation League', 'Pb Animation Co. Ltd.']\"\n",
            " \"['Production I.G', 'OLM', 'Signal. MD']\"\n",
            " \"['TMS Entertainment', 'Shin-Ei Animation']\" \"['Team YokkyuFuman']\"\n",
            " \"['Namu Animation']\" \"['TUBA']\" \"['Ripromo']\" \"['Echoes']\"\n",
            " \"['LandQ studios']\" \"['OLM Digital', 'Signal. MD']\" \"['Tengu Kobo']\"\n",
            " \"['Platinum Vision']\" \"['Puzzle Animation Studio Limited']\"\n",
            " \"['Thundray']\" \"['Vasoon Animation']\" \"['CG Year']\" \"['Blade']\"\n",
            " \"['Craftar']\" \"['Artland', 'TNK']\" \"['GARDEN LODGE']\" \"['Studio UGOKI']\"\n",
            " \"['M2']\" \"['Creators in Pack', 'Namu Animation']\" \"['Chippai']\"\n",
            " \"['Studio Dadashow']\" \"['Beijing Rocen Digital']\" \"['Will Palette']\"\n",
            " \"['Kamikaze Douga', 'Nishiki Studio']\"\n",
            " \"['TMS Entertainment', 'Jinnis Animation Studios']\"\n",
            " \"['TMS Entertainment', 'TOCSIS']\" \"['TMS Entertainment', 'Studio Comet']\"\n",
            " \"['Gathering', 'Lesprit']\" \"['Sotsu']\" \"['Dwango', 'LIDENFILMS']\"\n",
            " \"['TYPHOON GRAPHICS']\" \"['Zexcs', 'Studio A-CAT']\" \"['PRA']\"\n",
            " \"['Project No.9', 'A-Real']\" \"['Science SARU']\" \"['Studio Ponoc']\"\n",
            " \"['Yamamura Animation, Inc.']\" \"['Felix Film']\" \"['Studio Zealot']\"\n",
            " \"['Asahi Production', 'Success Co.']\" \"['SELFISH']\" \"['Rockwell Eyes']\"\n",
            " \"['Tsukimidou']\" \"['Tomoyasu Murata Company']\" \"['Karasfilms']\"\n",
            " \"['Gonzo', 'DandeLion Animation Studio LLC']\" \"['Chiptune']\"\n",
            " \"['Twilight Studio']\" \"['A-Line']\" \"['Piso Studio']\"\n",
            " \"['Fanworks', 'Imagineer']\"\n",
            " \"['Haoliners Animation League', 'Studio LAN']\" \"['drop']\"\n",
            " \"['Shin-Ei Animation', 'DLE']\" \"['iDRAGONS Creative Studio']\"\n",
            " \"['Actas', 'Studio 3Hz']\" \"['Shirogumi', 'EMT²']\" \"['Studio Khronos']\"\n",
            " \"['A-1 Pictures', 'CLOVERWORKS']\" \"['Yokohama Animation Lab']\"\n",
            " \"['Robot Communications', 'Imagica Image Works']\"\n",
            " \"['Usagi Ou', 'Studio Nanahoshi']\" \"['Tomason']\" \"['Picona']\"\n",
            " \"['Diomedea', 'Studio Blanc']\" \"['Emon', 'Blade']\"\n",
            " \"['Production I.G', 'NUT', 'REVOROOT']\"\n",
            " \"['Tsuburaya Productions', 'Trigger']\"\n",
            " \"['A-1 Pictures', 'Trigger', 'CLOVERWORKS']\"\n",
            " \"['Bibury Animation Studios']\" \"['Studio Flad']\" \"['G-Lam', 'Studio CA']\"\n",
            " \"['Geno Studio']\" \"['Studio VOLN']\" \"['Studio LAN']\"\n",
            " \"['Kaname Productions']\" \"['Takara Tomy A.R.T.S']\"\n",
            " \"['Pb Animation Co. Ltd.', 'Studio LAN']\" \"['Cygames']\"\n",
            " \"['2:10 Animation']\" \"['Usagi Ou']\" \"['TNK', 'Zero-G']\"\n",
            " \"['OLM', 'Shin-Ei Animation']\" \"['NHK Enterprises']\" \"['KIZAWA Studio']\"\n",
            " \"['Coastline Animation Studio']\" \"['Pops Inc.']\" \"['Boyan Pictures']\"\n",
            " \"['Nice Boat Animation']\" \"['pH Studio']\"\n",
            " \"['pH Studio', 'D &amp; D Pictures']\" \"['D &amp; D Pictures']\"\n",
            " \"['HeART-BIT']\" \"['Strawberry Meets Pictures']\" \"['OLM', 'Wit Studio']\"\n",
            " \"['Creators in Pack', 'Studio Lings']\" \"['BOOTLEG']\"\n",
            " \"['Eiken', 'TYO Animations']\" \"['helo.inc']\"\n",
            " \"['CUCURI', 'Digital Network Animation']\"\n",
            " \"['Light Chaser Animation Studios']\" \"['Wawayu Animation']\"\n",
            " \"['EKACHI EPILKA']\" \"['Imagineer']\"\n",
            " \"['CoMix Wave Films', 'Haoliners Animation League']\"\n",
            " \"['MAPPA', 'Lapin Track']\" \"['33 Collective']\" \"['Madhouse', 'DLE']\"\n",
            " \"['CLOVERWORKS']\" \"['REVOROOT']\" \"['GRIZZLY']\" \"['G-angle']\"\n",
            " \"['WAO World', 'GEMBA']\" \"['Shanghai Hippo Animation']\"\n",
            " \"['Imagica Imageworks']\" \"['tear-studio']\" \"['CLAP']\"\n",
            " \"['Success Corp.', 'Dangun Pictures']\" \"['Passione', 'Creators in Pack']\"\n",
            " \"['Sublimation']\" \"['Craftar Studios']\" \"['Connect']\"\n",
            " \"['Sola Digital Arts']\" \"['Production I.G', 'Sola Digital Arts']\"\n",
            " \"['Lide']\" \"['Kate Arrow']\" \"['CloverWorks']\" '[\"Brain\\'s Base\"]'\n",
            " \"['Shanghai Motion Magic']\" \"['Pie in the sky']\" \"['Studio Crocodile']\"\n",
            " \"['Anon Pictures']\" \"['Signal.MD', 'Sublimation']\"\n",
            " \"['P.A. Works', 'Studio 3Hz']\" \"['Production I.G', 'Nihon Ad Systems']\"\n",
            " \"['Production I.G', 'LandQ studios']\" \"['Signal.MD']\" \"['B&T']\"\n",
            " \"['Revoroot']\" \"['Ezόla']\" \"['Creatures Inc.']\" \"['Twin Engine']\"]\n",
            "\n",
            "Banyak data pada kolom 'source': 17\n",
            "Data unik pada kolom 'source': ['Original' 'Manga' 'Light novel' 'Game' 'Visual novel' '4-koma manga'\n",
            " 'Novel' 'Unknown' 'Other' 'Picture book' 'Web manga' 'Music' 'Book'\n",
            " 'Card game' 'Radio' 'Digital manga' nan]\n",
            "\n",
            "Banyak data pada kolom 'aired': 11128\n",
            "Data unik pada kolom 'aired': ['Apr 3, 1998 to Apr 24, 1999' 'Sep 1, 2001' 'Apr 1, 1998 to Sep 30, 1998'\n",
            " ... 'Feb 14, 2004' 'Feb 5, 2005' 'Jul 2, 2010 to Dec 24, 2010']\n",
            "\n",
            "Banyak data pada kolom 'link': 16217\n",
            "Data unik pada kolom 'link': ['https://myanimelist.net/anime/1/Cowboy_Bebop'\n",
            " 'https://myanimelist.net/anime/5/Cowboy_Bebop__Tengoku_no_Tobira'\n",
            " 'https://myanimelist.net/anime/6/Trigun' ...\n",
            " 'https://myanimelist.net/anime/713/Air_Movie'\n",
            " 'https://myanimelist.net/anime/13599/Robotics_Notes'\n",
            " 'https://myanimelist.net/anime/8676/Amagami_SS']\n",
            "\n"
          ]
        }
      ]
    },
    {
      "cell_type": "markdown",
      "metadata": {
        "id": "xw7Z6XPrX76y"
      },
      "source": [
        "### Numerical Features\n",
        "Kita analisa untuk kolom numerical."
      ]
    },
    {
      "cell_type": "code",
      "metadata": {
        "colab": {
          "base_uri": "https://localhost:8080/"
        },
        "id": "AsRZ_SvmXYeY",
        "outputId": "73dd96b0-577b-4b57-ff47-d4857f32aa2b"
      },
      "source": [
        "numerical_features = [\"anime_id\", \"rating\", \"scoredby\", \"popularity\", \n",
        "                      \"members\", \"episodes\"]\n",
        "for column in numerical_features:\n",
        "    print(f\"\\nJumlah data pada kolom '{column}':\", len(df[column].unique()))\n",
        "    print(df[[column]].describe())"
      ],
      "execution_count": 10,
      "outputs": [
        {
          "output_type": "stream",
          "name": "stdout",
          "text": [
            "\n",
            "Jumlah data pada kolom 'anime_id': 16850\n",
            "           anime_id\n",
            "count  17002.000000\n",
            "mean   20446.579638\n",
            "std    14342.513259\n",
            "min        1.000000\n",
            "25%     5581.500000\n",
            "50%    21334.000000\n",
            "75%    34789.250000\n",
            "max    40960.000000\n",
            "\n",
            "Jumlah data pada kolom 'rating': 627\n",
            "             rating\n",
            "count  14425.000000\n",
            "mean       6.287867\n",
            "std        1.141401\n",
            "min        1.000000\n",
            "25%        5.620000\n",
            "50%        6.410000\n",
            "75%        7.090000\n",
            "max       10.000000\n",
            "\n",
            "Jumlah data pada kolom 'scoredby': 5454\n",
            "           scoredby\n",
            "count  1.322700e+04\n",
            "mean   1.139084e+04\n",
            "std    4.328434e+04\n",
            "min    1.000000e+00\n",
            "25%    4.300000e+01\n",
            "50%    4.780000e+02\n",
            "75%    3.831000e+03\n",
            "max    1.006242e+06\n",
            "\n",
            "Jumlah data pada kolom 'popularity': 14383\n",
            "         popularity\n",
            "count  16368.000000\n",
            "mean    8131.919599\n",
            "std     4714.683351\n",
            "min        1.000000\n",
            "25%     4042.500000\n",
            "50%     8115.000000\n",
            "75%    12208.250000\n",
            "max    16338.000000\n",
            "\n",
            "Jumlah data pada kolom 'members': 8044\n",
            "            members\n",
            "count  1.700200e+04\n",
            "mean   2.038130e+04\n",
            "std    7.121404e+04\n",
            "min    0.000000e+00\n",
            "25%    1.450000e+02\n",
            "50%    1.113000e+03\n",
            "75%    7.855750e+03\n",
            "max    1.451708e+06\n",
            "\n",
            "Jumlah data pada kolom 'episodes': 197\n",
            "           episodes\n",
            "count  14085.000000\n",
            "mean      11.482712\n",
            "std       44.089040\n",
            "min        1.000000\n",
            "25%        1.000000\n",
            "50%        1.000000\n",
            "75%       12.000000\n",
            "max     1818.000000\n"
          ]
        }
      ]
    },
    {
      "cell_type": "markdown",
      "metadata": {
        "id": "l9bhYdLfZM9y"
      },
      "source": [
        "# Data Preparation"
      ]
    },
    {
      "cell_type": "markdown",
      "metadata": {
        "id": "UiaIisi0Zfba"
      },
      "source": [
        "## Menangani Missing Value"
      ]
    },
    {
      "cell_type": "markdown",
      "metadata": {
        "id": "4kiUIUDiZjhK"
      },
      "source": [
        "### Cek Missing Value\n",
        "Setelah itu kita cek data yang kosong."
      ]
    },
    {
      "cell_type": "code",
      "metadata": {
        "colab": {
          "base_uri": "https://localhost:8080/"
        },
        "id": "F2uBmf2BZO9H",
        "outputId": "b4250e1a-d931-44c4-cebc-d7b0cb447673"
      },
      "source": [
        "df.isna().sum()"
      ],
      "execution_count": 11,
      "outputs": [
        {
          "output_type": "execute_result",
          "data": {
            "text/plain": [
              "anime_id         0\n",
              "title            0\n",
              "genre         2012\n",
              "synopsis      1419\n",
              "type           634\n",
              "producer      9367\n",
              "studio        9083\n",
              "rating        2577\n",
              "scoredby      3775\n",
              "popularity     634\n",
              "members          0\n",
              "episodes      2917\n",
              "source        1927\n",
              "aired          634\n",
              "link           634\n",
              "dtype: int64"
            ]
          },
          "metadata": {},
          "execution_count": 11
        }
      ]
    },
    {
      "cell_type": "markdown",
      "metadata": {
        "id": "74uF9PoBZspD"
      },
      "source": [
        "### Hapus Missing Value\n",
        "Kita akan menghapus data yang kosong"
      ]
    },
    {
      "cell_type": "code",
      "metadata": {
        "colab": {
          "base_uri": "https://localhost:8080/"
        },
        "id": "ywdagZzuZlK6",
        "outputId": "43149fb9-6de7-4ced-8d68-4ad8d58c111a"
      },
      "source": [
        "df = df.dropna()\n",
        "df.isna().sum()"
      ],
      "execution_count": 12,
      "outputs": [
        {
          "output_type": "execute_result",
          "data": {
            "text/plain": [
              "anime_id      0\n",
              "title         0\n",
              "genre         0\n",
              "synopsis      0\n",
              "type          0\n",
              "producer      0\n",
              "studio        0\n",
              "rating        0\n",
              "scoredby      0\n",
              "popularity    0\n",
              "members       0\n",
              "episodes      0\n",
              "source        0\n",
              "aired         0\n",
              "link          0\n",
              "dtype: int64"
            ]
          },
          "metadata": {},
          "execution_count": 12
        }
      ]
    },
    {
      "cell_type": "markdown",
      "metadata": {
        "id": "KVSuxUrJaQjg"
      },
      "source": [
        "## Hapus semua data yang sama\n",
        "Setelah itu kita hapus data yang sama. Supaya model machine learning kita mempelajari banyak variasi data bukan hanya data yang sama saja."
      ]
    },
    {
      "cell_type": "code",
      "metadata": {
        "colab": {
          "base_uri": "https://localhost:8080/"
        },
        "id": "UAGtoGt9aVqy",
        "outputId": "24c339b6-1c19-43bb-ff64-c53ae162f4cc"
      },
      "source": [
        "print(\"Total data sebelum hapus duplicates:\", df.shape[0])\n",
        "df = df.drop_duplicates()\n",
        "print(\"Total data sebelum hapus duplicates:\", df.shape[0])"
      ],
      "execution_count": 13,
      "outputs": [
        {
          "output_type": "stream",
          "name": "stdout",
          "text": [
            "Total data sebelum hapus duplicates: 4479\n",
            "Total data sebelum hapus duplicates: 4459\n"
          ]
        }
      ]
    },
    {
      "cell_type": "markdown",
      "metadata": {
        "id": "LQ8jsmahalsk"
      },
      "source": [
        "# Model Development"
      ]
    },
    {
      "cell_type": "markdown",
      "metadata": {
        "id": "JHv721ARaq_k"
      },
      "source": [
        "## Content Based Filtering"
      ]
    },
    {
      "cell_type": "markdown",
      "metadata": {
        "id": "31O77mF2bOzJ"
      },
      "source": [
        "### Buat Model\n",
        "Kita buat model content based filtering dengan menggunakan TF-IDF Vectorizer"
      ]
    },
    {
      "cell_type": "code",
      "metadata": {
        "colab": {
          "base_uri": "https://localhost:8080/"
        },
        "id": "Xvf-B52hancz",
        "outputId": "47315f0b-f491-4434-a48f-b6fa25a04325"
      },
      "source": [
        "tf = TfidfVectorizer()\n",
        "tf.fit(df['genre'])\n",
        "tf.get_feature_names() "
      ],
      "execution_count": 14,
      "outputs": [
        {
          "output_type": "execute_result",
          "data": {
            "text/plain": [
              "['action',\n",
              " 'adventure',\n",
              " 'ai',\n",
              " 'arts',\n",
              " 'cars',\n",
              " 'comedy',\n",
              " 'dementia',\n",
              " 'demons',\n",
              " 'drama',\n",
              " 'ecchi',\n",
              " 'fantasy',\n",
              " 'fi',\n",
              " 'game',\n",
              " 'harem',\n",
              " 'hentai',\n",
              " 'historical',\n",
              " 'horror',\n",
              " 'josei',\n",
              " 'kids',\n",
              " 'life',\n",
              " 'magic',\n",
              " 'martial',\n",
              " 'mecha',\n",
              " 'military',\n",
              " 'music',\n",
              " 'mystery',\n",
              " 'of',\n",
              " 'parody',\n",
              " 'police',\n",
              " 'power',\n",
              " 'psychological',\n",
              " 'romance',\n",
              " 'samurai',\n",
              " 'school',\n",
              " 'sci',\n",
              " 'seinen',\n",
              " 'shoujo',\n",
              " 'shounen',\n",
              " 'slice',\n",
              " 'space',\n",
              " 'sports',\n",
              " 'super',\n",
              " 'supernatural',\n",
              " 'thriller',\n",
              " 'vampire',\n",
              " 'yaoi',\n",
              " 'yuri']"
            ]
          },
          "metadata": {},
          "execution_count": 14
        }
      ]
    },
    {
      "cell_type": "markdown",
      "metadata": {
        "id": "jscFsjYhdeuK"
      },
      "source": [
        "### Latih Model\n",
        "Kita latih model content based filtering kita"
      ]
    },
    {
      "cell_type": "code",
      "metadata": {
        "colab": {
          "base_uri": "https://localhost:8080/"
        },
        "id": "_vkrg_qbdGL-",
        "outputId": "d1bef9b6-07de-497d-8edc-5e61a3b89a60"
      },
      "source": [
        "tfidf_matrix = tf.fit_transform(df['genre'])      \n",
        "print(\"Ukuran matrix:\", tfidf_matrix.shape) \n",
        "tfidf_matrix.todense()"
      ],
      "execution_count": 15,
      "outputs": [
        {
          "output_type": "stream",
          "name": "stdout",
          "text": [
            "Ukuran matrix: (4459, 47)\n"
          ]
        },
        {
          "output_type": "execute_result",
          "data": {
            "text/plain": [
              "matrix([[0.29690062, 0.35874628, 0.        , ..., 0.        , 0.        ,\n",
              "         0.        ],\n",
              "        [0.28628532, 0.        , 0.        , ..., 0.        , 0.        ,\n",
              "         0.        ],\n",
              "        [0.33234705, 0.40157634, 0.        , ..., 0.        , 0.        ,\n",
              "         0.        ],\n",
              "        ...,\n",
              "        [0.        , 0.        , 0.        , ..., 0.        , 0.        ,\n",
              "         0.        ],\n",
              "        [0.49543606, 0.59863749, 0.        , ..., 0.        , 0.        ,\n",
              "         0.        ],\n",
              "        [0.        , 0.        , 0.        , ..., 0.        , 0.        ,\n",
              "         0.        ]])"
            ]
          },
          "metadata": {},
          "execution_count": 15
        }
      ]
    },
    {
      "cell_type": "markdown",
      "metadata": {
        "id": "yKH0Pg84eRuQ"
      },
      "source": [
        "### Buat Derajat Kesamaan\n",
        "Kita akan menghitung derajat kesamaan antar setiap anime"
      ]
    },
    {
      "cell_type": "code",
      "metadata": {
        "colab": {
          "base_uri": "https://localhost:8080/",
          "height": 517
        },
        "id": "xY32faGQeLZP",
        "outputId": "c77b883d-f64b-436a-a8af-370eb6dd3dd2"
      },
      "source": [
        "cosine_sim = cosine_similarity(tfidf_matrix) \n",
        "cosine_sim_df = pd.DataFrame(cosine_sim, index=df['title'], columns=df['title'])\n",
        "print('Ukuran Cosine:', cosine_sim_df.shape)\n",
        "cosine_sim_df.sample(5, axis=1).sample(10, axis=0)"
      ],
      "execution_count": 16,
      "outputs": [
        {
          "output_type": "stream",
          "name": "stdout",
          "text": [
            "Ukuran Cosine: (4459, 4459)\n"
          ]
        },
        {
          "output_type": "execute_result",
          "data": {
            "text/html": [
              "<div>\n",
              "<style scoped>\n",
              "    .dataframe tbody tr th:only-of-type {\n",
              "        vertical-align: middle;\n",
              "    }\n",
              "\n",
              "    .dataframe tbody tr th {\n",
              "        vertical-align: top;\n",
              "    }\n",
              "\n",
              "    .dataframe thead th {\n",
              "        text-align: right;\n",
              "    }\n",
              "</style>\n",
              "<table border=\"1\" class=\"dataframe\">\n",
              "  <thead>\n",
              "    <tr style=\"text-align: right;\">\n",
              "      <th>title</th>\n",
              "      <th>Uchuu Koukyoushi Maetel: Ginga Tetsudou 999 Gaiden</th>\n",
              "      <th>Mikakunin de Shinkoukei</th>\n",
              "      <th>Shining Hearts: Shiawase no Pan Specials</th>\n",
              "      <th>Romeo x Juliet</th>\n",
              "      <th>Kamen no Maid Guy: Ano Natsu, Ichiban Yutaka na Chichi.</th>\n",
              "    </tr>\n",
              "    <tr>\n",
              "      <th>title</th>\n",
              "      <th></th>\n",
              "      <th></th>\n",
              "      <th></th>\n",
              "      <th></th>\n",
              "      <th></th>\n",
              "    </tr>\n",
              "  </thead>\n",
              "  <tbody>\n",
              "    <tr>\n",
              "      <th>Gunslinger Stratos The Animation</th>\n",
              "      <td>0.506349</td>\n",
              "      <td>0.000000</td>\n",
              "      <td>0.000000</td>\n",
              "      <td>0.000000</td>\n",
              "      <td>0.240606</td>\n",
              "    </tr>\n",
              "    <tr>\n",
              "      <th>Rerere no Tensai Bakabon</th>\n",
              "      <td>0.000000</td>\n",
              "      <td>0.269369</td>\n",
              "      <td>0.000000</td>\n",
              "      <td>0.000000</td>\n",
              "      <td>0.403057</td>\n",
              "    </tr>\n",
              "    <tr>\n",
              "      <th>Tennis no Ouji-sama: Pair Prince</th>\n",
              "      <td>0.182562</td>\n",
              "      <td>0.084780</td>\n",
              "      <td>0.000000</td>\n",
              "      <td>0.188743</td>\n",
              "      <td>0.126857</td>\n",
              "    </tr>\n",
              "    <tr>\n",
              "      <th>Nanatsu no Bitoku Specials</th>\n",
              "      <td>0.000000</td>\n",
              "      <td>0.000000</td>\n",
              "      <td>0.585473</td>\n",
              "      <td>0.255224</td>\n",
              "      <td>0.636223</td>\n",
              "    </tr>\n",
              "    <tr>\n",
              "      <th>Getsuyoubi no Tawawa</th>\n",
              "      <td>0.000000</td>\n",
              "      <td>0.634600</td>\n",
              "      <td>0.000000</td>\n",
              "      <td>0.000000</td>\n",
              "      <td>0.442452</td>\n",
              "    </tr>\n",
              "    <tr>\n",
              "      <th>Yokoyama Mitsuteru Sangokushi</th>\n",
              "      <td>0.000000</td>\n",
              "      <td>0.000000</td>\n",
              "      <td>0.000000</td>\n",
              "      <td>0.482940</td>\n",
              "      <td>0.198553</td>\n",
              "    </tr>\n",
              "    <tr>\n",
              "      <th>Medama Oyaji no April Fools'</th>\n",
              "      <td>0.000000</td>\n",
              "      <td>0.000000</td>\n",
              "      <td>0.000000</td>\n",
              "      <td>0.000000</td>\n",
              "      <td>0.000000</td>\n",
              "    </tr>\n",
              "    <tr>\n",
              "      <th>Dousou Kai Again</th>\n",
              "      <td>0.000000</td>\n",
              "      <td>0.000000</td>\n",
              "      <td>0.000000</td>\n",
              "      <td>0.000000</td>\n",
              "      <td>0.000000</td>\n",
              "    </tr>\n",
              "    <tr>\n",
              "      <th>Sol Bianca</th>\n",
              "      <td>0.777837</td>\n",
              "      <td>0.000000</td>\n",
              "      <td>0.000000</td>\n",
              "      <td>0.000000</td>\n",
              "      <td>0.155271</td>\n",
              "    </tr>\n",
              "    <tr>\n",
              "      <th>Digimon Adventure tri. 3: Kokuhaku</th>\n",
              "      <td>0.231266</td>\n",
              "      <td>0.107398</td>\n",
              "      <td>0.000000</td>\n",
              "      <td>0.239095</td>\n",
              "      <td>0.379954</td>\n",
              "    </tr>\n",
              "  </tbody>\n",
              "</table>\n",
              "</div>"
            ],
            "text/plain": [
              "title                               Uchuu Koukyoushi Maetel: Ginga Tetsudou 999 Gaiden  ...  Kamen no Maid Guy: Ano Natsu, Ichiban Yutaka na Chichi.\n",
              "title                                                                                   ...                                                         \n",
              "Gunslinger Stratos The Animation                                             0.506349   ...                                           0.240606      \n",
              "Rerere no Tensai Bakabon                                                     0.000000   ...                                           0.403057      \n",
              "Tennis no Ouji-sama: Pair Prince                                             0.182562   ...                                           0.126857      \n",
              "Nanatsu no Bitoku Specials                                                   0.000000   ...                                           0.636223      \n",
              "Getsuyoubi no Tawawa                                                         0.000000   ...                                           0.442452      \n",
              "Yokoyama Mitsuteru Sangokushi                                                0.000000   ...                                           0.198553      \n",
              "Medama Oyaji no April Fools'                                                 0.000000   ...                                           0.000000      \n",
              "Dousou Kai Again                                                             0.000000   ...                                           0.000000      \n",
              "Sol Bianca                                                                   0.777837   ...                                           0.155271      \n",
              "Digimon Adventure tri. 3: Kokuhaku                                           0.231266   ...                                           0.379954      \n",
              "\n",
              "[10 rows x 5 columns]"
            ]
          },
          "metadata": {},
          "execution_count": 16
        }
      ]
    },
    {
      "cell_type": "markdown",
      "metadata": {
        "id": "w_m8psa2e1ev"
      },
      "source": [
        "### Buat Fungsi Rekomendasi\n",
        "Kita akan membuat fungsi untuk mengambil rekomendasi"
      ]
    },
    {
      "cell_type": "code",
      "metadata": {
        "colab": {
          "base_uri": "https://localhost:8080/"
        },
        "id": "m6vlNb3hetMU",
        "outputId": "4259132b-592f-45fa-fe0b-4d5db9f242d7"
      },
      "source": [
        "def anime_recommendations(judul_anime, similarity_data=cosine_sim_df, items=df[['title', 'genre']], k=5):\n",
        "    index = similarity_data.loc[:,judul_anime].to_numpy().argpartition(\n",
        "        range(-1, -k, -1))\n",
        "    \n",
        "    closest = similarity_data.columns[index[-1:-(k+2):-1]]\n",
        "    closest = closest.drop(judul_anime, errors='ignore')\n",
        "    return pd.DataFrame(closest).merge(items).head(k)\n",
        "\n",
        "print(\"Fungsi sudah dibuat\")"
      ],
      "execution_count": 17,
      "outputs": [
        {
          "output_type": "stream",
          "name": "stdout",
          "text": [
            "Fungsi sudah dibuat\n"
          ]
        }
      ]
    },
    {
      "cell_type": "markdown",
      "metadata": {
        "id": "PNErIb_kgIaK"
      },
      "source": [
        "### Test Model\n",
        "Kita akan testing model kita"
      ]
    },
    {
      "cell_type": "code",
      "metadata": {
        "colab": {
          "base_uri": "https://localhost:8080/",
          "height": 363
        },
        "id": "rQKSW9vLgM_P",
        "outputId": "2e4df5b5-a048-4431-a423-dcba586a7940"
      },
      "source": [
        "anime_recommendations(\"Bleach\", k=10)"
      ],
      "execution_count": 18,
      "outputs": [
        {
          "output_type": "execute_result",
          "data": {
            "text/html": [
              "<div>\n",
              "<style scoped>\n",
              "    .dataframe tbody tr th:only-of-type {\n",
              "        vertical-align: middle;\n",
              "    }\n",
              "\n",
              "    .dataframe tbody tr th {\n",
              "        vertical-align: top;\n",
              "    }\n",
              "\n",
              "    .dataframe thead th {\n",
              "        text-align: right;\n",
              "    }\n",
              "</style>\n",
              "<table border=\"1\" class=\"dataframe\">\n",
              "  <thead>\n",
              "    <tr style=\"text-align: right;\">\n",
              "      <th></th>\n",
              "      <th>title</th>\n",
              "      <th>genre</th>\n",
              "    </tr>\n",
              "  </thead>\n",
              "  <tbody>\n",
              "    <tr>\n",
              "      <th>0</th>\n",
              "      <td>Zettai Karen Children: The Unlimited - Hyoubu ...</td>\n",
              "      <td>['Action', 'Super Power', 'Supernatural', 'Sho...</td>\n",
              "    </tr>\n",
              "    <tr>\n",
              "      <th>1</th>\n",
              "      <td>Hunter x Hunter</td>\n",
              "      <td>['Action', 'Adventure', 'Shounen', 'Super Power']</td>\n",
              "    </tr>\n",
              "    <tr>\n",
              "      <th>2</th>\n",
              "      <td>Hunter x Hunter Movie 1: Phantom Rouge</td>\n",
              "      <td>['Action', 'Adventure', 'Super Power', 'Shounen']</td>\n",
              "    </tr>\n",
              "    <tr>\n",
              "      <th>3</th>\n",
              "      <td>Hunter x Hunter Movie 2: The Last Mission</td>\n",
              "      <td>['Action', 'Adventure', 'Super Power', 'Shounen']</td>\n",
              "    </tr>\n",
              "    <tr>\n",
              "      <th>4</th>\n",
              "      <td>Hunter x Hunter (2011)</td>\n",
              "      <td>['Action', 'Adventure', 'Super Power', 'Shounen']</td>\n",
              "    </tr>\n",
              "    <tr>\n",
              "      <th>5</th>\n",
              "      <td>Kekkai Sensen: Ousama no Restaurant no Ousama</td>\n",
              "      <td>['Action', 'Comedy', 'Super Power', 'Supernatu...</td>\n",
              "    </tr>\n",
              "    <tr>\n",
              "      <th>6</th>\n",
              "      <td>Code:Breaker</td>\n",
              "      <td>['Action', 'Comedy', 'School', 'Shounen', 'Sup...</td>\n",
              "    </tr>\n",
              "    <tr>\n",
              "      <th>7</th>\n",
              "      <td>One Piece: Adventure of Nebulandia</td>\n",
              "      <td>['Action', 'Adventure', 'Comedy', 'Super Power...</td>\n",
              "    </tr>\n",
              "    <tr>\n",
              "      <th>8</th>\n",
              "      <td>One Piece Movie 2: Nejimaki-jima no Daibouken</td>\n",
              "      <td>['Action', 'Adventure', 'Comedy', 'Super Power...</td>\n",
              "    </tr>\n",
              "    <tr>\n",
              "      <th>9</th>\n",
              "      <td>One Piece: Glorious Island</td>\n",
              "      <td>['Action', 'Adventure', 'Comedy', 'Super Power...</td>\n",
              "    </tr>\n",
              "  </tbody>\n",
              "</table>\n",
              "</div>"
            ],
            "text/plain": [
              "                                               title                                              genre\n",
              "0  Zettai Karen Children: The Unlimited - Hyoubu ...  ['Action', 'Super Power', 'Supernatural', 'Sho...\n",
              "1                                    Hunter x Hunter  ['Action', 'Adventure', 'Shounen', 'Super Power']\n",
              "2             Hunter x Hunter Movie 1: Phantom Rouge  ['Action', 'Adventure', 'Super Power', 'Shounen']\n",
              "3          Hunter x Hunter Movie 2: The Last Mission  ['Action', 'Adventure', 'Super Power', 'Shounen']\n",
              "4                             Hunter x Hunter (2011)  ['Action', 'Adventure', 'Super Power', 'Shounen']\n",
              "5      Kekkai Sensen: Ousama no Restaurant no Ousama  ['Action', 'Comedy', 'Super Power', 'Supernatu...\n",
              "6                                       Code:Breaker  ['Action', 'Comedy', 'School', 'Shounen', 'Sup...\n",
              "7                 One Piece: Adventure of Nebulandia  ['Action', 'Adventure', 'Comedy', 'Super Power...\n",
              "8      One Piece Movie 2: Nejimaki-jima no Daibouken  ['Action', 'Adventure', 'Comedy', 'Super Power...\n",
              "9                         One Piece: Glorious Island  ['Action', 'Adventure', 'Comedy', 'Super Power..."
            ]
          },
          "metadata": {},
          "execution_count": 18
        }
      ]
    },
    {
      "cell_type": "markdown",
      "metadata": {
        "id": "EJVFZF4EjoPC"
      },
      "source": [
        "### Evaluation Model\n",
        "Setelah itu kita akan melihat hasil model tersebut dengan menggunakan precision evaluation"
      ]
    },
    {
      "cell_type": "code",
      "metadata": {
        "id": "gHcWjKlRlQj_",
        "colab": {
          "base_uri": "https://localhost:8080/",
          "height": 143
        },
        "outputId": "9834a13c-d794-4d19-c9a1-e91a446f7717"
      },
      "source": [
        "def get_precision(anime_title, k=5):\n",
        "    score_precision = 0\n",
        "    real_result = df[df[\"title\"].eq(anime_title)]\n",
        "    real_result = real_result[\"genre\"].values[0]\n",
        "    real_result = real_result.replace(\"'\", \"\")\n",
        "    real_result = real_result.replace(\"[\", \"\")\n",
        "    real_result = real_result.replace(\"]\", \"\")\n",
        "    real_result = real_result.split(\", \")\n",
        "\n",
        "    anime_result = anime_recommendations(anime_title, k=k)\n",
        "    for i in range(k):\n",
        "        genre_anime = anime_result.iloc[i, 1]\n",
        "        genre_anime = genre_anime.replace(\"'\", \"\")\n",
        "        genre_anime = genre_anime.replace(\"[\", \"\")\n",
        "        genre_anime = genre_anime.replace(\"]\", \"\")\n",
        "        genre_anime = genre_anime.split(\", \")\n",
        "        result_genre = set(real_result) - set(genre_anime)\n",
        "        if len(result_genre) < len(real_result):\n",
        "            score_precision += 1\n",
        "\n",
        "    return score_precision/k\n",
        "\n",
        "testing_anime = [\"Sword Art Online\", \"Bleach\", \"Naruto\"]\n",
        "evaluation = pd.DataFrame(columns=['precision'], index=testing_anime)\n",
        "for anime in testing_anime:\n",
        "    evaluation.loc[anime, \"precision\"] = get_precision(anime, k=50)\n",
        "\n",
        "evaluation"
      ],
      "execution_count": 93,
      "outputs": [
        {
          "output_type": "execute_result",
          "data": {
            "text/html": [
              "<div>\n",
              "<style scoped>\n",
              "    .dataframe tbody tr th:only-of-type {\n",
              "        vertical-align: middle;\n",
              "    }\n",
              "\n",
              "    .dataframe tbody tr th {\n",
              "        vertical-align: top;\n",
              "    }\n",
              "\n",
              "    .dataframe thead th {\n",
              "        text-align: right;\n",
              "    }\n",
              "</style>\n",
              "<table border=\"1\" class=\"dataframe\">\n",
              "  <thead>\n",
              "    <tr style=\"text-align: right;\">\n",
              "      <th></th>\n",
              "      <th>precision</th>\n",
              "    </tr>\n",
              "  </thead>\n",
              "  <tbody>\n",
              "    <tr>\n",
              "      <th>Sword Art Online</th>\n",
              "      <td>1</td>\n",
              "    </tr>\n",
              "    <tr>\n",
              "      <th>Bleach</th>\n",
              "      <td>1</td>\n",
              "    </tr>\n",
              "    <tr>\n",
              "      <th>Naruto</th>\n",
              "      <td>1</td>\n",
              "    </tr>\n",
              "  </tbody>\n",
              "</table>\n",
              "</div>"
            ],
            "text/plain": [
              "                 precision\n",
              "Sword Art Online         1\n",
              "Bleach                   1\n",
              "Naruto                   1"
            ]
          },
          "metadata": {},
          "execution_count": 93
        }
      ]
    },
    {
      "cell_type": "code",
      "metadata": {
        "id": "XS86cqROsetn"
      },
      "source": [
        ""
      ],
      "execution_count": null,
      "outputs": []
    }
  ]
}